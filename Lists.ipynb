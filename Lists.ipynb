{
  "nbformat": 4,
  "nbformat_minor": 0,
  "metadata": {
    "colab": {
      "name": "Untitled0.ipynb",
      "provenance": [],
      "toc_visible": true,
      "authorship_tag": "ABX9TyOYKEgW9Fq+USmS+Vrb2bPS",
      "include_colab_link": true
    },
    "kernelspec": {
      "name": "python3",
      "display_name": "Python 3"
    },
    "language_info": {
      "name": "python"
    }
  },
  "cells": [
    {
      "cell_type": "markdown",
      "metadata": {
        "id": "view-in-github",
        "colab_type": "text"
      },
      "source": [
        "<a href=\"https://colab.research.google.com/github/Misudhari/Python-Exercises/blob/main/Lists.ipynb\" target=\"_parent\"><img src=\"https://colab.research.google.com/assets/colab-badge.svg\" alt=\"Open In Colab\"/></a>"
      ]
    },
    {
      "cell_type": "markdown",
      "source": [
        "##Lists"
      ],
      "metadata": {
        "id": "VWs3a4ls0Yea"
      }
    },
    {
      "cell_type": "markdown",
      "source": [
        "##Exercise 1\n",
        "Python program to interchange first and last elements in a list"
      ],
      "metadata": {
        "id": "NIkE-3Hu0fhe"
      }
    },
    {
      "cell_type": "code",
      "execution_count": null,
      "metadata": {
        "colab": {
          "base_uri": "https://localhost:8080/"
        },
        "id": "ORIJPJot0V9k",
        "outputId": "633b7c05-ec0d-4594-d9b7-4e5a511ee1f2"
      },
      "outputs": [
        {
          "output_type": "stream",
          "name": "stdout",
          "text": [
            "['A', 'B', 'C', 'D', 'E', 'F', 'G']\n",
            "['G', 'B', 'C', 'D', 'E', 'F', 'A']\n"
          ]
        }
      ],
      "source": [
        "list = ['A' , 'B' , 'C' ,  'D' , 'E' , 'F' , 'G']\n",
        "print(list)\n",
        "# temp = list[0]\n",
        "# list[0] = list[-1]\n",
        "# list[-1] = temp\n",
        "# print(list)\n",
        "\n",
        "# Another Approach\n",
        "first = list.pop(0)\n",
        "last = list.pop(-1)\n",
        "\n",
        "list.insert(0,last)\n",
        "list.append(first)\n",
        "print(list)"
      ]
    },
    {
      "cell_type": "markdown",
      "source": [
        "##Exercise 2\n",
        "Swap two elements in a list"
      ],
      "metadata": {
        "id": "wxl8iqNr3Puj"
      }
    },
    {
      "cell_type": "code",
      "source": [
        "def swaplist(list, pos1, pos2):\n",
        "  a = list[pos1-1]\n",
        "  b = list[pos2-1]\n",
        "  list[pos1-1] = b\n",
        "  list[pos2-1] = a\n",
        "  return list\n",
        "\n",
        "list = ['A' , 'B' , 'C' ,  'D' , 'E' , 'F' , 'G']\n",
        "\n",
        "print(swaplist(list,4,6))\n",
        "# Swap complete"
      ],
      "metadata": {
        "id": "oCuhASjY1caj",
        "outputId": "eb0540dd-83a2-423b-de75-28f4b9a74526",
        "colab": {
          "base_uri": "https://localhost:8080/"
        }
      },
      "execution_count": 2,
      "outputs": [
        {
          "output_type": "stream",
          "name": "stdout",
          "text": [
            "['A', 'B', 'C', 'F', 'E', 'D', 'G']\n"
          ]
        }
      ]
    },
    {
      "cell_type": "code",
      "source": [
        ""
      ],
      "metadata": {
        "id": "MCNNmZ5j4ake"
      },
      "execution_count": null,
      "outputs": []
    }
  ]
}