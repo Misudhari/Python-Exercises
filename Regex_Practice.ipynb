{
  "nbformat": 4,
  "nbformat_minor": 0,
  "metadata": {
    "colab": {
      "provenance": [],
      "authorship_tag": "ABX9TyPC/fb1j3lMF2FT0CAEDoWV",
      "include_colab_link": true
    },
    "kernelspec": {
      "name": "python3",
      "display_name": "Python 3"
    },
    "language_info": {
      "name": "python"
    }
  },
  "cells": [
    {
      "cell_type": "markdown",
      "metadata": {
        "id": "view-in-github",
        "colab_type": "text"
      },
      "source": [
        "<a href=\"https://colab.research.google.com/github/Misudhari/Python-Exercises/blob/main/Regex_Practice.ipynb\" target=\"_parent\"><img src=\"https://colab.research.google.com/assets/colab-badge.svg\" alt=\"Open In Colab\"/></a>"
      ]
    },
    {
      "cell_type": "markdown",
      "source": [
        "#1\n",
        "###Write a program to check that a string contains only a certain set of characters (a-z, A-Z and 0-9)\n"
      ],
      "metadata": {
        "id": "6GwalVdXO-J-"
      }
    },
    {
      "cell_type": "code",
      "execution_count": 8,
      "metadata": {
        "colab": {
          "base_uri": "https://localhost:8080/"
        },
        "id": "2Ki6aGLXNsW_",
        "outputId": "8d61a8ce-d5e5-4e13-f293-950c0c7befd9"
      },
      "outputs": [
        {
          "output_type": "stream",
          "name": "stdout",
          "text": [
            "Mithilesh\n",
            "True\n"
          ]
        }
      ],
      "source": [
        "import re\n",
        "\n",
        "text = str(input())\n",
        "\n",
        "regex = '[a-z]|[A-z]|[0-9]'\n",
        "if not (re.search(regex,text)):\n",
        "  print (\"False\")\n",
        "else:\n",
        "  print(\"True\")"
      ]
    },
    {
      "cell_type": "markdown",
      "source": [
        "#2\n",
        "### Write a Python program that matches a string that has an a followed by zero or more b's."
      ],
      "metadata": {
        "id": "_JXzEVrKTQgt"
      }
    },
    {
      "cell_type": "code",
      "source": [
        "import re\n",
        "\n",
        "text = str(input())\n",
        "\n",
        "regex = 'a(b*)'\n",
        "if re.search(regex,text):\n",
        "  print(\"True\")\n",
        "else:\n",
        "  print(\"False\")"
      ],
      "metadata": {
        "colab": {
          "base_uri": "https://localhost:8080/"
        },
        "id": "l3aM7f_mQHGg",
        "outputId": "2aac6a78-c014-4c7f-a135-e469770182a2"
      },
      "execution_count": 31,
      "outputs": [
        {
          "output_type": "stream",
          "name": "stdout",
          "text": [
            "whassup abbbbb mthi\n",
            "True\n"
          ]
        }
      ]
    },
    {
      "cell_type": "markdown",
      "source": [
        "#3\n",
        "###Write a Python program that matches a string that has an a followed by one or more b's.\n"
      ],
      "metadata": {
        "id": "ooUMB-lWUNsG"
      }
    },
    {
      "cell_type": "code",
      "source": [
        "import re\n",
        "\n",
        "text = input()\n",
        "regex = 'a[b*]'\n",
        "if re.search(regex,text):\n",
        "  print(\"True\")\n",
        "else:\n",
        "  print(\"False\")"
      ],
      "metadata": {
        "colab": {
          "base_uri": "https://localhost:8080/"
        },
        "id": "blWWPk8sT5eQ",
        "outputId": "8e6987ab-461c-4e0b-cced-6f397e08791e"
      },
      "execution_count": 28,
      "outputs": [
        {
          "output_type": "stream",
          "name": "stdout",
          "text": [
            "ab\n",
            "True\n"
          ]
        }
      ]
    }
  ]
}