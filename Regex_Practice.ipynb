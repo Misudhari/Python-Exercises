{
  "nbformat": 4,
  "nbformat_minor": 0,
  "metadata": {
    "colab": {
      "provenance": [],
      "authorship_tag": "ABX9TyMKB9kjfzm6xV9Nl7cDoSJy",
      "include_colab_link": true
    },
    "kernelspec": {
      "name": "python3",
      "display_name": "Python 3"
    },
    "language_info": {
      "name": "python"
    }
  },
  "cells": [
    {
      "cell_type": "markdown",
      "metadata": {
        "id": "view-in-github",
        "colab_type": "text"
      },
      "source": [
        "<a href=\"https://colab.research.google.com/github/Misudhari/Python-Exercises/blob/main/Regex_Practice.ipynb\" target=\"_parent\"><img src=\"https://colab.research.google.com/assets/colab-badge.svg\" alt=\"Open In Colab\"/></a>"
      ]
    },
    {
      "cell_type": "markdown",
      "source": [
        "#1\n",
        "###Write a program to check that a string contains only a certain set of characters (a-z, A-Z and 0-9)\n"
      ],
      "metadata": {
        "id": "6GwalVdXO-J-"
      }
    },
    {
      "cell_type": "code",
      "execution_count": null,
      "metadata": {
        "colab": {
          "base_uri": "https://localhost:8080/"
        },
        "id": "2Ki6aGLXNsW_",
        "outputId": "8d61a8ce-d5e5-4e13-f293-950c0c7befd9"
      },
      "outputs": [
        {
          "output_type": "stream",
          "name": "stdout",
          "text": [
            "Mithilesh\n",
            "True\n"
          ]
        }
      ],
      "source": [
        "import re\n",
        "\n",
        "text = str(input())\n",
        "\n",
        "regex = '[a-z]|[A-z]|[0-9]'\n",
        "if not (re.search(regex,text)):\n",
        "  print (\"False\")\n",
        "else:\n",
        "  print(\"True\")"
      ]
    },
    {
      "cell_type": "markdown",
      "source": [
        "#2\n",
        "### Write a Python program that matches a string that has an a followed by zero or more b's."
      ],
      "metadata": {
        "id": "_JXzEVrKTQgt"
      }
    },
    {
      "cell_type": "code",
      "source": [
        "import re\n",
        "\n",
        "text = str(input())\n",
        "\n",
        "regex = 'a(b*)'\n",
        "if re.search(regex,text):\n",
        "  print(\"True\")\n",
        "else:\n",
        "  print(\"False\")"
      ],
      "metadata": {
        "colab": {
          "base_uri": "https://localhost:8080/"
        },
        "id": "l3aM7f_mQHGg",
        "outputId": "16e4f961-da7e-46b4-bb65-b6608ba3a69b"
      },
      "execution_count": 34,
      "outputs": [
        {
          "output_type": "stream",
          "name": "stdout",
          "text": [
            "a\n",
            "True\n"
          ]
        }
      ]
    },
    {
      "cell_type": "markdown",
      "source": [
        "#3\n",
        "###Write a Python program that matches a string that has an a followed by one or more b's.\n"
      ],
      "metadata": {
        "id": "ooUMB-lWUNsG"
      }
    },
    {
      "cell_type": "code",
      "source": [
        "import re\n",
        "\n",
        "text = input()\n",
        "regex = 'a[b*]'\n",
        "if re.search(regex,text):\n",
        "  print(\"True\")\n",
        "else:\n",
        "  print(\"False\")"
      ],
      "metadata": {
        "colab": {
          "base_uri": "https://localhost:8080/"
        },
        "id": "blWWPk8sT5eQ",
        "outputId": "8e6987ab-461c-4e0b-cced-6f397e08791e"
      },
      "execution_count": null,
      "outputs": [
        {
          "output_type": "stream",
          "name": "stdout",
          "text": [
            "ab\n",
            "True\n"
          ]
        }
      ]
    },
    {
      "cell_type": "markdown",
      "source": [
        "#4\n",
        "###Write a Python program that matches a string that has an a followed by zero or one 'b'. "
      ],
      "metadata": {
        "id": "270SVPlfemg0"
      }
    },
    {
      "cell_type": "code",
      "source": [
        "import re\n",
        "\n",
        "text = input()\n",
        "regex = 'ab?'\n",
        "if re.search(regex,text):\n",
        "  print(\"True\")\n",
        "else:\n",
        "  print(\"False\")"
      ],
      "metadata": {
        "colab": {
          "base_uri": "https://localhost:8080/"
        },
        "id": "N-ylKkjUevXs",
        "outputId": "bd007f95-de9c-4a35-eb94-2b409c50b9e3"
      },
      "execution_count": 44,
      "outputs": [
        {
          "output_type": "stream",
          "name": "stdout",
          "text": [
            "as\n",
            "True\n"
          ]
        }
      ]
    },
    {
      "cell_type": "markdown",
      "source": [
        "#5\n",
        "###Write a Python program that matches a string that has an a followed by three 'b'."
      ],
      "metadata": {
        "id": "Fbu75d7uf2L7"
      }
    },
    {
      "cell_type": "code",
      "source": [
        "import re\n",
        "\n",
        "text = input()\n",
        "regex = 'abbb'\n",
        "if re.search(regex,text):\n",
        "  print(\"True\")\n",
        "else:\n",
        "  print(\"False\")"
      ],
      "metadata": {
        "colab": {
          "base_uri": "https://localhost:8080/"
        },
        "id": "EBeIpNixfDzT",
        "outputId": "637823d4-9ef8-4628-ab7a-6d8264e115bc"
      },
      "execution_count": 47,
      "outputs": [
        {
          "output_type": "stream",
          "name": "stdout",
          "text": [
            "abcdnab\n",
            "False\n"
          ]
        }
      ]
    },
    {
      "cell_type": "markdown",
      "source": [
        "#6\n",
        "###Write a Python program that matches a string that has an a followed by two to three 'b'."
      ],
      "metadata": {
        "id": "Zb7E6bq4igDS"
      }
    },
    {
      "cell_type": "code",
      "source": [
        "import re\n",
        "\n",
        "text = input()\n",
        "regex = 'a{1}b{2,3}'\n",
        "if re.search(regex,text):\n",
        "  print(\"True\")\n",
        "else:\n",
        "  print(\"False\")"
      ],
      "metadata": {
        "colab": {
          "base_uri": "https://localhost:8080/"
        },
        "id": "2IoG-HIHiRqH",
        "outputId": "0fe3cd7d-063a-436c-fb89-5430ba9c25f3"
      },
      "execution_count": 57,
      "outputs": [
        {
          "output_type": "stream",
          "name": "stdout",
          "text": [
            "aabb\n",
            "True\n"
          ]
        }
      ]
    },
    {
      "cell_type": "markdown",
      "source": [
        "#7\n",
        "###Write a Python program to find sequences of lowercase letters joined with a underscore."
      ],
      "metadata": {
        "id": "VrPEyuMFklMC"
      }
    },
    {
      "cell_type": "code",
      "source": [
        "import re\n",
        "\n",
        "text = input()\n",
        "regex = '[a-z]_'\n",
        "if re.search(regex,text):\n",
        "  print(\"True\")\n",
        "else:\n",
        "  print(\"False\")"
      ],
      "metadata": {
        "colab": {
          "base_uri": "https://localhost:8080/"
        },
        "id": "OGHx4S13i7Px",
        "outputId": "3ed1ebaa-b565-4e57-f54d-cd03f598dc4f"
      },
      "execution_count": 59,
      "outputs": [
        {
          "output_type": "stream",
          "name": "stdout",
          "text": [
            "Karma\n",
            "False\n"
          ]
        }
      ]
    },
    {
      "cell_type": "markdown",
      "source": [
        "#8\n",
        "### Write a Python program to find the sequences of one upper case letter followed by lower case letters."
      ],
      "metadata": {
        "id": "mRs1ydOOpHBC"
      }
    },
    {
      "cell_type": "code",
      "source": [
        "import re\n",
        "\n",
        "text = input()\n",
        "regex = '[A-Z][a-z]'\n",
        "if re.search(regex,text):\n",
        "  print(\"True\")\n",
        "else:\n",
        "  print(\"False\")"
      ],
      "metadata": {
        "colab": {
          "base_uri": "https://localhost:8080/"
        },
        "id": "-qRuIvRXl5gp",
        "outputId": "b23d9473-f2bf-4ead-c422-e9a8ecabc91c"
      },
      "execution_count": 61,
      "outputs": [
        {
          "output_type": "stream",
          "name": "stdout",
          "text": [
            "abA\n",
            "False\n"
          ]
        }
      ]
    },
    {
      "cell_type": "markdown",
      "source": [
        "#9\n",
        "###Write a Python program that matches a string that has an 'a' followed by anything, ending in 'b'."
      ],
      "metadata": {
        "id": "KofbRH-GpfLK"
      }
    },
    {
      "cell_type": "code",
      "source": [
        "import re\n",
        "\n",
        "text = input()\n",
        "regex = 'a.*b$'\n",
        "if re.search(regex,text):\n",
        "  print(\"True\")\n",
        "else:\n",
        "  print(\"False\")"
      ],
      "metadata": {
        "colab": {
          "base_uri": "https://localhost:8080/"
        },
        "id": "_KmZ1YdXpUBE",
        "outputId": "c286e337-a79d-45ce-ecda-7a23eeca93d9"
      },
      "execution_count": 75,
      "outputs": [
        {
          "output_type": "stream",
          "name": "stdout",
          "text": [
            "vdbfb\n",
            "False\n"
          ]
        }
      ]
    },
    {
      "cell_type": "markdown",
      "source": [
        "#10\n",
        "###Write a Python program that matches a word at the beginning of a string."
      ],
      "metadata": {
        "id": "ZCzQCE8jp7Bh"
      }
    },
    {
      "cell_type": "code",
      "source": [
        "import re\n",
        "\n",
        "text = input()\n",
        "regex = '^\\w+'\n",
        "match = re.search(regex,text)\n",
        "if match:\n",
        "  print(match)\n",
        "else:\n",
        "  print(\"False\")"
      ],
      "metadata": {
        "colab": {
          "base_uri": "https://localhost:8080/"
        },
        "id": "Ijj8HKJDpqtW",
        "outputId": "7511d481-5476-4a7e-df6f-ecc54306e01d"
      },
      "execution_count": 69,
      "outputs": [
        {
          "output_type": "stream",
          "name": "stdout",
          "text": [
            "Mithilesh Chaudhari\n",
            "<re.Match object; span=(0, 9), match='Mithilesh'>\n"
          ]
        }
      ]
    },
    {
      "cell_type": "markdown",
      "source": [
        "#11\n",
        "### Write a Python program that matches a word at the end of string, with optional punctuation."
      ],
      "metadata": {
        "id": "UMrkUtKNrIoS"
      }
    },
    {
      "cell_type": "code",
      "source": [
        "import re\n",
        "\n",
        "text = input()\n",
        "regex = '\\w+\\S*?$'\n",
        "match = re.search(regex,text)\n",
        "if match:\n",
        "  print(match)\n",
        "else:\n",
        "  print(\"False\")"
      ],
      "metadata": {
        "colab": {
          "base_uri": "https://localhost:8080/"
        },
        "id": "Bj-gYLYHqKh6",
        "outputId": "2a76a29d-ce49-4be1-b58c-9d6b0a033698"
      },
      "execution_count": 83,
      "outputs": [
        {
          "output_type": "stream",
          "name": "stdout",
          "text": [
            "Mithilesh Chaudhari \n",
            "False\n"
          ]
        }
      ]
    },
    {
      "cell_type": "markdown",
      "source": [
        "#12\n",
        "###Write a Python program that matches a word containing 'z'. "
      ],
      "metadata": {
        "id": "2Lcf-cR5tsXR"
      }
    },
    {
      "cell_type": "code",
      "source": [
        "import re\n",
        "\n",
        "text = input()\n",
        "regex = '\\w*z.\\w*'\n",
        "l =[]\n",
        "match = re.search(regex,text)\n",
        "if match:\n",
        "  l.append(match)\n",
        "  print(l)\n",
        "else:\n",
        "  print(\"Not Matched\")"
      ],
      "metadata": {
        "colab": {
          "base_uri": "https://localhost:8080/"
        },
        "id": "jM_m6lTJsb55",
        "outputId": "5d716928-a462-4b3c-97a0-7171ad89ce7e"
      },
      "execution_count": 93,
      "outputs": [
        {
          "output_type": "stream",
          "name": "stdout",
          "text": [
            "zambre Aztech\n",
            "[<re.Match object; span=(0, 6), match='zambre'>]\n"
          ]
        }
      ]
    },
    {
      "cell_type": "code",
      "source": [],
      "metadata": {
        "id": "_FNT2G7Zt6to"
      },
      "execution_count": null,
      "outputs": []
    }
  ]
}